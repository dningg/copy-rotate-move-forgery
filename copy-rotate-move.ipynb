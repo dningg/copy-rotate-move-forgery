{
 "cells": [
  {
   "cell_type": "code",
   "execution_count": 9,
   "metadata": {},
   "outputs": [
    {
     "data": {
      "text/plain": [
       "[array([0.31830989, 0.0375987 , 0.5667791 , 0.1243997 , 0.22798748,\n",
       "        0.0796384 , 0.41417255, 0.21149535, 0.07278383, 0.23950111,\n",
       "        0.1004402 , 0.0857727 , 0.15344545, 0.21633714, 0.06364398,\n",
       "        0.07090004, 0.05224067, 0.12251026, 0.13709176, 0.07661225,\n",
       "        0.06767767, 0.12182294, 0.0663175 , 0.06022405, 0.07008482]),\n",
       " array([3.18309886e-01, 1.84674563e-04, 2.94056096e-01, 4.75118356e-02,\n",
       "        4.80514848e-03, 6.67691609e-03, 1.07908052e-01, 4.12230666e-02,\n",
       "        1.01778512e-01, 5.83116767e-03, 7.14306736e-03, 5.09051959e-03,\n",
       "        7.69484231e-02, 4.92056377e-02, 8.43959748e-02, 4.50523341e-02,\n",
       "        9.76050292e-04, 6.88688292e-03, 1.06329514e-03, 9.47496876e-03,\n",
       "        5.39755915e-02, 3.50284366e-02, 5.65743302e-02, 3.28549880e-02,\n",
       "        5.13704812e-02]),\n",
       " array([3.18309886e-01, 1.00536604e-04, 3.02167750e-01, 3.81139783e-03,\n",
       "        2.09950000e-03, 4.83813462e-03, 1.11482351e-01, 1.73755963e-03,\n",
       "        1.11172708e-01, 2.73211268e-03, 2.16388923e-03, 3.76907676e-04,\n",
       "        9.38022993e-02, 1.45120988e-03, 9.62440202e-02, 3.70278463e-03,\n",
       "        5.01821568e-04, 1.46136830e-03, 3.36490004e-03, 4.84941348e-03,\n",
       "        6.76053127e-02, 1.21445436e-03, 7.08678791e-02, 2.61796003e-03,\n",
       "        6.85806611e-02]),\n",
       " array([0.31830989, 0.00761809, 0.36386589, 0.28757163, 0.06944442,\n",
       "        0.01520739, 0.25050407, 0.37764824, 0.25351733, 0.00880912,\n",
       "        0.06648028, 0.03284163, 0.3038365 , 0.27402704, 0.35666841,\n",
       "        0.22309786, 0.02204913, 0.0157391 , 0.05229849, 0.04505692,\n",
       "        0.25904061, 0.28408025, 0.27110715, 0.32418643, 0.19645807])]"
      ]
     },
     "execution_count": 9,
     "metadata": {},
     "output_type": "execute_result"
    }
   ],
   "source": [
    "from scipy.spatial import distance as dist\n",
    "import numpy as np\n",
    "import mahotas\n",
    "import cv2\n",
    "import imutils\n",
    "\n",
    "refImage = cv2.imread(\"shapes.png\")\n",
    "\n",
    "shapeFeatures = []\n",
    "  \n",
    "# convert the image to grayscale, blur it, and threshold it\n",
    "gray = cv2.cvtColor(refImage, cv2.COLOR_BGR2GRAY)\n",
    "blurred = cv2.GaussianBlur(gray, (13, 13), 0)\n",
    "thresh = cv2.threshold(blurred, 50, 255, cv2.THRESH_BINARY)[1]\n",
    "\n",
    "# perform a series of dilations and erosions to close holes\n",
    "    # in the shapes\n",
    "thresh = cv2.dilate(thresh, None, iterations=4)\n",
    "thresh = cv2.erode(thresh, None, iterations=2)\n",
    "  \n",
    "    # detect contours in the edge map\n",
    "cnts = cv2.findContours(thresh.copy(), cv2.RETR_EXTERNAL,\n",
    "        cv2.CHAIN_APPROX_SIMPLE)\n",
    "cnts = imutils.grab_contours(cnts)\n",
    "   # loop over the contours\n",
    "for c in cnts:\n",
    "        # create an empty mask for the contour and draw it\n",
    "        mask = np.zeros(refImage.shape[:2], dtype=\"uint8\")\n",
    "        cv2.drawContours(mask, [c], -1, 255, -1)\n",
    "  \n",
    "        # extract the bounding box ROI from the mask\n",
    "        (x, y, w, h) = cv2.boundingRect(c)\n",
    "        roi = mask[y:y + h, x:x + w]\n",
    "  \n",
    "        # compute Zernike Moments for the ROI and update the list\n",
    "        # of shape features\n",
    "        features = mahotas.features.zernike_moments(roi, cv2.minEnclosingCircle(c)[1], degree=8)\n",
    "        shapeFeatures.append(features)\n",
    "\n",
    "shapeFeatures"
   ]
  },
  {
   "cell_type": "code",
   "execution_count": null,
   "metadata": {},
   "outputs": [],
   "source": []
  }
 ],
 "metadata": {
  "kernelspec": {
   "display_name": "base",
   "language": "python",
   "name": "python3"
  },
  "language_info": {
   "codemirror_mode": {
    "name": "ipython",
    "version": 3
   },
   "file_extension": ".py",
   "mimetype": "text/x-python",
   "name": "python",
   "nbconvert_exporter": "python",
   "pygments_lexer": "ipython3",
   "version": "3.10.9"
  }
 },
 "nbformat": 4,
 "nbformat_minor": 2
}
