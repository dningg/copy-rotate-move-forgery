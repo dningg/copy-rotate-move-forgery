{
 "cells": [
  {
   "cell_type": "code",
   "execution_count": 1,
   "metadata": {},
   "outputs": [],
   "source": [
    "import cv2\n",
    "import mahotas as mh\n",
    "import numpy as np\n",
    "import matplotlib.pyplot as plt"
   ]
  },
  {
   "cell_type": "code",
   "execution_count": 2,
   "metadata": {},
   "outputs": [],
   "source": [
    "class DetectionofCopyMoveForgery:\n",
    "\n",
    "    def __init__(self, img, height, width, blocksize, order, oklid_threshold, correlation_threshold, vec_len_threshold, num_ofvector_threshold):\n",
    "        self.img = img\n",
    "        self.height = height\n",
    "        self.width = width\n",
    "        self.blocksize = blocksize\n",
    "        self.oklid_threshold = oklid_threshold\n",
    "        self.correlation_threshold = correlation_threshold\n",
    "        self.vec_len_threshold = vec_len_threshold\n",
    "        self.num_ofvector_threshold = num_ofvector_threshold\n",
    "\n",
    "        self.block_vector = []\n",
    "        self.sizeof_vector = 10  # Zernike Moment có 5 giá trị\n",
    "        self.zernike_order = order  # Zernike moment order\n",
    "        self.hough_space = np.zeros((self.height, self.width, 2))\n",
    "        self.shiftvector = []\n",
    "\n",
    "    def detection_forgery(self):\n",
    "        self.zernike_moments_of_img()\n",
    "        self.lexicographically_sort_of_vectors()\n",
    "        self.correlation_of_vectors()\n",
    "\n",
    "        max = -1\n",
    "        for i in range(self.height):\n",
    "            for j in range(self.width):\n",
    "                for h in range(2):\n",
    "                    if (self.hough_space[i][j][h]) > max:\n",
    "                        max = self.hough_space[i][j][h]\n",
    "        for i in range(self.height):\n",
    "            for j in range(self.width):\n",
    "                self.img[i][j] = 0\n",
    "\n",
    "        for i in range(self.height):\n",
    "            for j in range(self.width):\n",
    "                for h in range(2):\n",
    "                    if (self.hough_space[i][j][h]) >= (max - (max * self.num_ofvector_threshold / 100)):\n",
    "                        for k in range(len(self.shiftvector)):\n",
    "                            if (self.shiftvector[k][0] == j and self.shiftvector[k][1] == i and self.shiftvector[k][2] == h):\n",
    "                                cv2.rectangle(self.img, (int(self.shiftvector[k][3]), int(self.shiftvector[k][4])),\n",
    "                                              (int(self.shiftvector[k][3] + self.blocksize), int(self.shiftvector[k][4] + self.blocksize)),\n",
    "                                              (255), -1)\n",
    "                                cv2.rectangle(self.img, (int(self.shiftvector[k][5]), int(self.shiftvector[k][6])),\n",
    "                                              (int(self.shiftvector[k][5] + self.blocksize), int(self.shiftvector[k][6] + self.blocksize)),\n",
    "                                              (255), -1)\n",
    "        #cv2.imshow(\"sonuc\", self.img)\n",
    "\n",
    "    def zernike_moments_of_img(self):\n",
    "        for r in range(0, self.height - self.blocksize, 1):\n",
    "            for c in range(0, self.width - self.blocksize, 1):\n",
    "                block = self.img[r:r + self.blocksize, c:c + self.blocksize]\n",
    "                # Chuyển đổi block thành hình ảnh nhị phân (nếu cần)\n",
    "                _, block = cv2.threshold(block, 127, 255, cv2.THRESH_BINARY)\n",
    "                # Tính toán Zernike Moments cho block\n",
    "                moments = mh.features.zernike_moments(block, radius=self.blocksize, degree=self.zernike_order)\n",
    "                # Chỉ giữ lại 5 giá trị đầu tiên của Zernike Moments\n",
    "                moments = moments[:self.sizeof_vector]\n",
    "                moments = moments.tolist()\n",
    "                #Thêm các thông tin về vị trí của block\n",
    "                moments.append(c)\n",
    "                moments.append(r)\n",
    "                self.block_vector.append(moments)\n",
    "\n",
    "    def lexicographically_sort_of_vectors(self):\n",
    "        # Sắp xếp các vectơ dựa trên giá trị của chúng\n",
    "        self.block_vector = np.array(self.block_vector)\n",
    "        self.block_vector = self.block_vector[np.lexsort(np.rot90(self.block_vector)[2:(self.sizeof_vector + 1) + 2, :])]\n",
    "\n",
    "    def correlation_of_vectors(self):\n",
    "        for i in range(len(self.block_vector)):\n",
    "            if (i + self.correlation_threshold >= len(self.block_vector)):\n",
    "                self.correlation_threshold -= 1\n",
    "            for j in range(i + 1, i + self.correlation_threshold + 1):\n",
    "                if (self.oklid(self.block_vector[i][:self.sizeof_vector], self.block_vector[j][:self.sizeof_vector], self.sizeof_vector) <= self.oklid_threshold):\n",
    "                    v1 = [self.block_vector[i][-2], self.block_vector[i][-1]]\n",
    "                    v2 = [self.block_vector[j][-2], self.block_vector[j][-1]]\n",
    "                    self.elimination_of_weak_vectors(v1, v2, 2)\n",
    "\n",
    "    def elimination_of_weak_vectors(self, vector1, vector2, size):\n",
    "        if (self.oklid(vector1, vector2, size) >= self.vec_len_threshold):\n",
    "            self.elimination_of_weak_area(vector1, vector2)\n",
    "\n",
    "    def elimination_of_weak_area(self, vector1, vector2):\n",
    "        c = int(abs(vector2[0] - vector1[0]))\n",
    "        r = int(abs(vector2[1] - vector1[1]))\n",
    "        if (vector2[0] >= vector1[0]):\n",
    "            if (vector2[1] >= vector1[1]):\n",
    "                z = 0\n",
    "            else:\n",
    "                z = 1\n",
    "\n",
    "        if (vector1[0] > vector2[0]):\n",
    "            if (vector1[1] >= vector2[1]):\n",
    "\n",
    "                z = 0\n",
    "            else:\n",
    "                z = 1\n",
    "        self.hough_space[r][c][z] += 1\n",
    "        vector = [c, r, z, vector1[0], vector1[1], vector2[0], vector2[1]]\n",
    "        self.shiftvector.append(vector) \n",
    "\n",
    "    def oklid(self, vector1, vector2, size):\n",
    "        sum = 0\n",
    "        for i in range(size):\n",
    "            sum += (vector2[i] - vector1[i]) ** 2\n",
    "\n",
    "        return np.sqrt(sum)"
   ]
  },
  {
   "cell_type": "code",
   "execution_count": 3,
   "metadata": {},
   "outputs": [],
   "source": [
    "image_path = \"dataset/multi_paste/barrier_gcs500_copy_rb5.png\"\n",
    "img = cv2.imread(image_path, 0)\n",
    "\n",
    "height, width= img.shape\n",
    "block_size = 24 # Set your desired block_size\n",
    "oklid_threshold = 3.5  # Set your desired oklid_threshold\n",
    "correlation_threshold = 8  # Set your desired correlation_threshold\n",
    "vec_len_threshold = 100  # Set your desired vec_len_threshold\n",
    "num_ofvector_threshold = 5  # Set your desired num_ofvector_threshold\n",
    "order =5 # Set your desired Zernike moment order\n",
    "\n",
    "forgery_detector = DetectionofCopyMoveForgery(img, height, width, block_size, order, oklid_threshold, correlation_threshold, vec_len_threshold, num_ofvector_threshold)\n",
    "forgery_detector.detection_forgery()"
   ]
  },
  {
   "cell_type": "code",
   "execution_count": 4,
   "metadata": {},
   "outputs": [
    {
     "data": {
      "image/png": "[encoded data removed]",
      "text/plain": [
       "<Figure size 640x480 with 1 Axes>"
      ]
     },
     "metadata": {},
     "output_type": "display_data"
    }
   ],
   "source": [
    "plt.imshow(img, cmap='gray')\n",
    "plt.show()"
   ]
  },
  {
   "cell_type": "code",
   "execution_count": 5,
   "metadata": {},
   "outputs": [],
   "source": [
    "def getFmeasure(orginal_img, test_img, width, height):\n",
    "    DP=0\n",
    "    YP=0\n",
    "    YN=0\n",
    "    for i in range(height):\n",
    "        for j in range(width):\n",
    "            if orginal_img[i][j]==255 and test_img[i][j]==255:\n",
    "                DP +=1\n",
    "            if orginal_img[i][j]==0 and test_img[i][j]==255:\n",
    "                YP +=1\n",
    "            if orginal_img[i][j]==255 and test_img[i][j]==0:\n",
    "                YN +=1\n",
    "    precision =DP/(DP+YP)\n",
    "    recall =DP/(DP+YN)\n",
    "    return 2*((precision*recall)/(precision+recall))"
   ]
  },
  {
   "cell_type": "code",
   "execution_count": 6,
   "metadata": {},
   "outputs": [
    {
     "data": {
      "image/png": "[encoded data removed]",
      "text/plain": [
       "<Figure size 640x480 with 1 Axes>"
      ]
     },
     "metadata": {},
     "output_type": "display_data"
    },
    {
     "name": "stdout",
     "output_type": "stream",
     "text": [
      "F1 score:  0.3141104294478528\n"
     ]
    }
   ],
   "source": [
    "original_img = cv2.imread(\"dataset/multi_paste/barrier_gcs500_gt_rb5.png\",0)\n",
    "plt.imshow(original_img, cmap='gray')\n",
    "plt.show()\n",
    "\n",
    "f1_score = getFmeasure(original_img,img,width,height) \n",
    "print(\"F1 score: \",f1_score)"
   ]
  },
  {
   "cell_type": "code",
   "execution_count": null,
   "metadata": {},
   "outputs": [],
   "source": []
  }
 ],
 "metadata": {
  "kernelspec": {
   "display_name": "base",
   "language": "python",
   "name": "python3"
  },
  "language_info": {
   "codemirror_mode": {
    "name": "ipython",
    "version": 3
   },
   "file_extension": ".py",
   "mimetype": "text/x-python",
   "name": "python",
   "nbconvert_exporter": "python",
   "pygments_lexer": "ipython3",
   "version": "3.10.9"
  }
 },
 "nbformat": 4,
 "nbformat_minor": 2
}
